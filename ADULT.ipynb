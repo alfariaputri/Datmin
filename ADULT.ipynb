{
  "nbformat": 4,
  "nbformat_minor": 0,
  "metadata": {
    "colab": {
      "name": "ADULT.ipynb",
      "provenance": [],
      "collapsed_sections": []
    },
    "kernelspec": {
      "name": "python3",
      "display_name": "Python 3"
    },
    "language_info": {
      "name": "python"
    }
  },
  "cells": [
    {
      "cell_type": "code",
      "metadata": {
        "id": "f2xi1sW6WXYE",
        "colab": {
          "base_uri": "https://localhost:8080/",
          "height": 281
        },
        "outputId": "cd3a7cff-bdf0-4767-a09b-594a46463d4f"
      },
      "source": [
        "import pandas as pd\n",
        "df_adult = pd.read_csv(\"/content/adult baru.csv\")\n",
        "df_adult.head(3)\n"
      ],
      "execution_count": 34,
      "outputs": [
        {
          "output_type": "execute_result",
          "data": {
            "text/html": [
              "<div>\n",
              "<style scoped>\n",
              "    .dataframe tbody tr th:only-of-type {\n",
              "        vertical-align: middle;\n",
              "    }\n",
              "\n",
              "    .dataframe tbody tr th {\n",
              "        vertical-align: top;\n",
              "    }\n",
              "\n",
              "    .dataframe thead th {\n",
              "        text-align: right;\n",
              "    }\n",
              "</style>\n",
              "<table border=\"1\" class=\"dataframe\">\n",
              "  <thead>\n",
              "    <tr style=\"text-align: right;\">\n",
              "      <th></th>\n",
              "      <th>age</th>\n",
              "      <th>workclass</th>\n",
              "      <th>fnlwgt</th>\n",
              "      <th>education</th>\n",
              "      <th>educational-num</th>\n",
              "      <th>marital-status</th>\n",
              "      <th>occupation</th>\n",
              "      <th>relationship</th>\n",
              "      <th>race</th>\n",
              "      <th>gender</th>\n",
              "      <th>capital-gain</th>\n",
              "      <th>capital-loss</th>\n",
              "      <th>hours-per-week</th>\n",
              "      <th>native-country</th>\n",
              "      <th>income</th>\n",
              "    </tr>\n",
              "  </thead>\n",
              "  <tbody>\n",
              "    <tr>\n",
              "      <th>0</th>\n",
              "      <td>25</td>\n",
              "      <td>Private</td>\n",
              "      <td>226802</td>\n",
              "      <td>11th</td>\n",
              "      <td>7</td>\n",
              "      <td>Never-married</td>\n",
              "      <td>Machine-op-inspct</td>\n",
              "      <td>Own-child</td>\n",
              "      <td>Black</td>\n",
              "      <td>Male</td>\n",
              "      <td>0</td>\n",
              "      <td>0</td>\n",
              "      <td>40</td>\n",
              "      <td>United-States</td>\n",
              "      <td>&lt;=50K</td>\n",
              "    </tr>\n",
              "    <tr>\n",
              "      <th>1</th>\n",
              "      <td>38</td>\n",
              "      <td>Private</td>\n",
              "      <td>89814</td>\n",
              "      <td>HS-grad</td>\n",
              "      <td>9</td>\n",
              "      <td>Married-civ-spouse</td>\n",
              "      <td>Farming-fishing</td>\n",
              "      <td>Husband</td>\n",
              "      <td>White</td>\n",
              "      <td>Male</td>\n",
              "      <td>0</td>\n",
              "      <td>0</td>\n",
              "      <td>50</td>\n",
              "      <td>United-States</td>\n",
              "      <td>&lt;=50K</td>\n",
              "    </tr>\n",
              "    <tr>\n",
              "      <th>2</th>\n",
              "      <td>28</td>\n",
              "      <td>Local-gov</td>\n",
              "      <td>336951</td>\n",
              "      <td>Assoc-acdm</td>\n",
              "      <td>12</td>\n",
              "      <td>Married-civ-spouse</td>\n",
              "      <td>Protective-serv</td>\n",
              "      <td>Husband</td>\n",
              "      <td>White</td>\n",
              "      <td>Male</td>\n",
              "      <td>0</td>\n",
              "      <td>0</td>\n",
              "      <td>40</td>\n",
              "      <td>United-States</td>\n",
              "      <td>&gt;50K</td>\n",
              "    </tr>\n",
              "  </tbody>\n",
              "</table>\n",
              "</div>"
            ],
            "text/plain": [
              "   age  workclass  fnlwgt  ... hours-per-week  native-country income\n",
              "0   25    Private  226802  ...             40   United-States  <=50K\n",
              "1   38    Private   89814  ...             50   United-States  <=50K\n",
              "2   28  Local-gov  336951  ...             40   United-States   >50K\n",
              "\n",
              "[3 rows x 15 columns]"
            ]
          },
          "metadata": {
            "tags": []
          },
          "execution_count": 34
        }
      ]
    },
    {
      "cell_type": "code",
      "metadata": {
        "id": "bN6Lzxi_W-dT",
        "colab": {
          "base_uri": "https://localhost:8080/",
          "height": 196
        },
        "outputId": "d39bcae3-5d90-4266-b858-d576a7ed17f1"
      },
      "source": [
        "data = df_adult['native-country']\n",
        "data = pd.get_dummies(data)\n",
        "data.head(3)"
      ],
      "execution_count": 36,
      "outputs": [
        {
          "output_type": "execute_result",
          "data": {
            "text/html": [
              "<div>\n",
              "<style scoped>\n",
              "    .dataframe tbody tr th:only-of-type {\n",
              "        vertical-align: middle;\n",
              "    }\n",
              "\n",
              "    .dataframe tbody tr th {\n",
              "        vertical-align: top;\n",
              "    }\n",
              "\n",
              "    .dataframe thead th {\n",
              "        text-align: right;\n",
              "    }\n",
              "</style>\n",
              "<table border=\"1\" class=\"dataframe\">\n",
              "  <thead>\n",
              "    <tr style=\"text-align: right;\">\n",
              "      <th></th>\n",
              "      <th>?</th>\n",
              "      <th>Cambodia</th>\n",
              "      <th>Canada</th>\n",
              "      <th>China</th>\n",
              "      <th>Columbia</th>\n",
              "      <th>Cuba</th>\n",
              "      <th>Dominican-Republic</th>\n",
              "      <th>Ecuador</th>\n",
              "      <th>El-Salvador</th>\n",
              "      <th>England</th>\n",
              "      <th>France</th>\n",
              "      <th>Germany</th>\n",
              "      <th>Greece</th>\n",
              "      <th>Guatemala</th>\n",
              "      <th>Haiti</th>\n",
              "      <th>Holand-Netherlands</th>\n",
              "      <th>Honduras</th>\n",
              "      <th>Hong</th>\n",
              "      <th>Hungary</th>\n",
              "      <th>India</th>\n",
              "      <th>Iran</th>\n",
              "      <th>Ireland</th>\n",
              "      <th>Italy</th>\n",
              "      <th>Jamaica</th>\n",
              "      <th>Japan</th>\n",
              "      <th>Laos</th>\n",
              "      <th>Mexico</th>\n",
              "      <th>Nicaragua</th>\n",
              "      <th>Outlying-US(Guam-USVI-etc)</th>\n",
              "      <th>Peru</th>\n",
              "      <th>Philippines</th>\n",
              "      <th>Poland</th>\n",
              "      <th>Portugal</th>\n",
              "      <th>Puerto-Rico</th>\n",
              "      <th>Scotland</th>\n",
              "      <th>South</th>\n",
              "      <th>Taiwan</th>\n",
              "      <th>Thailand</th>\n",
              "      <th>Trinadad&amp;Tobago</th>\n",
              "      <th>United-States</th>\n",
              "      <th>Vietnam</th>\n",
              "      <th>Yugoslavia</th>\n",
              "    </tr>\n",
              "  </thead>\n",
              "  <tbody>\n",
              "    <tr>\n",
              "      <th>0</th>\n",
              "      <td>0</td>\n",
              "      <td>0</td>\n",
              "      <td>0</td>\n",
              "      <td>0</td>\n",
              "      <td>0</td>\n",
              "      <td>0</td>\n",
              "      <td>0</td>\n",
              "      <td>0</td>\n",
              "      <td>0</td>\n",
              "      <td>0</td>\n",
              "      <td>0</td>\n",
              "      <td>0</td>\n",
              "      <td>0</td>\n",
              "      <td>0</td>\n",
              "      <td>0</td>\n",
              "      <td>0</td>\n",
              "      <td>0</td>\n",
              "      <td>0</td>\n",
              "      <td>0</td>\n",
              "      <td>0</td>\n",
              "      <td>0</td>\n",
              "      <td>0</td>\n",
              "      <td>0</td>\n",
              "      <td>0</td>\n",
              "      <td>0</td>\n",
              "      <td>0</td>\n",
              "      <td>0</td>\n",
              "      <td>0</td>\n",
              "      <td>0</td>\n",
              "      <td>0</td>\n",
              "      <td>0</td>\n",
              "      <td>0</td>\n",
              "      <td>0</td>\n",
              "      <td>0</td>\n",
              "      <td>0</td>\n",
              "      <td>0</td>\n",
              "      <td>0</td>\n",
              "      <td>0</td>\n",
              "      <td>0</td>\n",
              "      <td>1</td>\n",
              "      <td>0</td>\n",
              "      <td>0</td>\n",
              "    </tr>\n",
              "    <tr>\n",
              "      <th>1</th>\n",
              "      <td>0</td>\n",
              "      <td>0</td>\n",
              "      <td>0</td>\n",
              "      <td>0</td>\n",
              "      <td>0</td>\n",
              "      <td>0</td>\n",
              "      <td>0</td>\n",
              "      <td>0</td>\n",
              "      <td>0</td>\n",
              "      <td>0</td>\n",
              "      <td>0</td>\n",
              "      <td>0</td>\n",
              "      <td>0</td>\n",
              "      <td>0</td>\n",
              "      <td>0</td>\n",
              "      <td>0</td>\n",
              "      <td>0</td>\n",
              "      <td>0</td>\n",
              "      <td>0</td>\n",
              "      <td>0</td>\n",
              "      <td>0</td>\n",
              "      <td>0</td>\n",
              "      <td>0</td>\n",
              "      <td>0</td>\n",
              "      <td>0</td>\n",
              "      <td>0</td>\n",
              "      <td>0</td>\n",
              "      <td>0</td>\n",
              "      <td>0</td>\n",
              "      <td>0</td>\n",
              "      <td>0</td>\n",
              "      <td>0</td>\n",
              "      <td>0</td>\n",
              "      <td>0</td>\n",
              "      <td>0</td>\n",
              "      <td>0</td>\n",
              "      <td>0</td>\n",
              "      <td>0</td>\n",
              "      <td>0</td>\n",
              "      <td>1</td>\n",
              "      <td>0</td>\n",
              "      <td>0</td>\n",
              "    </tr>\n",
              "    <tr>\n",
              "      <th>2</th>\n",
              "      <td>0</td>\n",
              "      <td>0</td>\n",
              "      <td>0</td>\n",
              "      <td>0</td>\n",
              "      <td>0</td>\n",
              "      <td>0</td>\n",
              "      <td>0</td>\n",
              "      <td>0</td>\n",
              "      <td>0</td>\n",
              "      <td>0</td>\n",
              "      <td>0</td>\n",
              "      <td>0</td>\n",
              "      <td>0</td>\n",
              "      <td>0</td>\n",
              "      <td>0</td>\n",
              "      <td>0</td>\n",
              "      <td>0</td>\n",
              "      <td>0</td>\n",
              "      <td>0</td>\n",
              "      <td>0</td>\n",
              "      <td>0</td>\n",
              "      <td>0</td>\n",
              "      <td>0</td>\n",
              "      <td>0</td>\n",
              "      <td>0</td>\n",
              "      <td>0</td>\n",
              "      <td>0</td>\n",
              "      <td>0</td>\n",
              "      <td>0</td>\n",
              "      <td>0</td>\n",
              "      <td>0</td>\n",
              "      <td>0</td>\n",
              "      <td>0</td>\n",
              "      <td>0</td>\n",
              "      <td>0</td>\n",
              "      <td>0</td>\n",
              "      <td>0</td>\n",
              "      <td>0</td>\n",
              "      <td>0</td>\n",
              "      <td>1</td>\n",
              "      <td>0</td>\n",
              "      <td>0</td>\n",
              "    </tr>\n",
              "  </tbody>\n",
              "</table>\n",
              "</div>"
            ],
            "text/plain": [
              "   ?  Cambodia  Canada  ...  United-States  Vietnam  Yugoslavia\n",
              "0  0         0       0  ...              1        0           0\n",
              "1  0         0       0  ...              1        0           0\n",
              "2  0         0       0  ...              1        0           0\n",
              "\n",
              "[3 rows x 42 columns]"
            ]
          },
          "metadata": {
            "tags": []
          },
          "execution_count": 36
        }
      ]
    },
    {
      "cell_type": "code",
      "metadata": {
        "id": "sbX6WqYTmsq4"
      },
      "source": [
        "for a in df_adult.index:\n",
        "  c=0\n",
        "  for b in data.columns:\n",
        "    if df_adult.loc[a , 'native-country'] == b :\n",
        "      df_adult.loc[a , 'native-country'] = c\n",
        "    c+=1"
      ],
      "execution_count": 37,
      "outputs": []
    },
    {
      "cell_type": "code",
      "metadata": {
        "colab": {
          "base_uri": "https://localhost:8080/",
          "height": 394
        },
        "id": "hQgKKAWloEID",
        "outputId": "b48a5d75-4f82-4351-a8db-4d6e2b3e67ce"
      },
      "source": [
        "df_adult.head()"
      ],
      "execution_count": 13,
      "outputs": [
        {
          "output_type": "execute_result",
          "data": {
            "text/html": [
              "<div>\n",
              "<style scoped>\n",
              "    .dataframe tbody tr th:only-of-type {\n",
              "        vertical-align: middle;\n",
              "    }\n",
              "\n",
              "    .dataframe tbody tr th {\n",
              "        vertical-align: top;\n",
              "    }\n",
              "\n",
              "    .dataframe thead th {\n",
              "        text-align: right;\n",
              "    }\n",
              "</style>\n",
              "<table border=\"1\" class=\"dataframe\">\n",
              "  <thead>\n",
              "    <tr style=\"text-align: right;\">\n",
              "      <th></th>\n",
              "      <th>age</th>\n",
              "      <th>workclass</th>\n",
              "      <th>fnlwgt</th>\n",
              "      <th>education</th>\n",
              "      <th>educational-num</th>\n",
              "      <th>marital-status</th>\n",
              "      <th>occupation</th>\n",
              "      <th>relationship</th>\n",
              "      <th>race</th>\n",
              "      <th>gender</th>\n",
              "      <th>capital-gain</th>\n",
              "      <th>capital-loss</th>\n",
              "      <th>hours-per-week</th>\n",
              "      <th>native-country</th>\n",
              "      <th>income</th>\n",
              "    </tr>\n",
              "  </thead>\n",
              "  <tbody>\n",
              "    <tr>\n",
              "      <th>0</th>\n",
              "      <td>25</td>\n",
              "      <td>Private</td>\n",
              "      <td>226802</td>\n",
              "      <td>11th</td>\n",
              "      <td>7</td>\n",
              "      <td>Never-married</td>\n",
              "      <td>Machine-op-inspct</td>\n",
              "      <td>Own-child</td>\n",
              "      <td>2</td>\n",
              "      <td>Male</td>\n",
              "      <td>0</td>\n",
              "      <td>0</td>\n",
              "      <td>40</td>\n",
              "      <td>39</td>\n",
              "      <td>&lt;=50K</td>\n",
              "    </tr>\n",
              "    <tr>\n",
              "      <th>1</th>\n",
              "      <td>38</td>\n",
              "      <td>Private</td>\n",
              "      <td>89814</td>\n",
              "      <td>HS-grad</td>\n",
              "      <td>9</td>\n",
              "      <td>Married-civ-spouse</td>\n",
              "      <td>Farming-fishing</td>\n",
              "      <td>Husband</td>\n",
              "      <td>4</td>\n",
              "      <td>Male</td>\n",
              "      <td>0</td>\n",
              "      <td>0</td>\n",
              "      <td>50</td>\n",
              "      <td>39</td>\n",
              "      <td>&lt;=50K</td>\n",
              "    </tr>\n",
              "    <tr>\n",
              "      <th>2</th>\n",
              "      <td>28</td>\n",
              "      <td>Local-gov</td>\n",
              "      <td>336951</td>\n",
              "      <td>Assoc-acdm</td>\n",
              "      <td>12</td>\n",
              "      <td>Married-civ-spouse</td>\n",
              "      <td>Protective-serv</td>\n",
              "      <td>Husband</td>\n",
              "      <td>4</td>\n",
              "      <td>Male</td>\n",
              "      <td>0</td>\n",
              "      <td>0</td>\n",
              "      <td>40</td>\n",
              "      <td>39</td>\n",
              "      <td>&gt;50K</td>\n",
              "    </tr>\n",
              "    <tr>\n",
              "      <th>3</th>\n",
              "      <td>44</td>\n",
              "      <td>Private</td>\n",
              "      <td>160323</td>\n",
              "      <td>Some-college</td>\n",
              "      <td>10</td>\n",
              "      <td>Married-civ-spouse</td>\n",
              "      <td>Machine-op-inspct</td>\n",
              "      <td>Husband</td>\n",
              "      <td>2</td>\n",
              "      <td>Male</td>\n",
              "      <td>7688</td>\n",
              "      <td>0</td>\n",
              "      <td>40</td>\n",
              "      <td>39</td>\n",
              "      <td>&gt;50K</td>\n",
              "    </tr>\n",
              "    <tr>\n",
              "      <th>4</th>\n",
              "      <td>18</td>\n",
              "      <td>?</td>\n",
              "      <td>103497</td>\n",
              "      <td>Some-college</td>\n",
              "      <td>10</td>\n",
              "      <td>Never-married</td>\n",
              "      <td>?</td>\n",
              "      <td>Own-child</td>\n",
              "      <td>4</td>\n",
              "      <td>Female</td>\n",
              "      <td>0</td>\n",
              "      <td>0</td>\n",
              "      <td>30</td>\n",
              "      <td>39</td>\n",
              "      <td>&lt;=50K</td>\n",
              "    </tr>\n",
              "  </tbody>\n",
              "</table>\n",
              "</div>"
            ],
            "text/plain": [
              "   age  workclass  fnlwgt  ... hours-per-week  native-country income\n",
              "0   25    Private  226802  ...             40              39  <=50K\n",
              "1   38    Private   89814  ...             50              39  <=50K\n",
              "2   28  Local-gov  336951  ...             40              39   >50K\n",
              "3   44    Private  160323  ...             40              39   >50K\n",
              "4   18          ?  103497  ...             30              39  <=50K\n",
              "\n",
              "[5 rows x 15 columns]"
            ]
          },
          "metadata": {
            "tags": []
          },
          "execution_count": 13
        }
      ]
    },
    {
      "cell_type": "code",
      "metadata": {
        "id": "O9ka5ObfoGjx"
      },
      "source": [
        "for a in df_adult.index:\n",
        "  if df_adult.loc[a , 'race'] == 'Amer-Indian-Eskimo' :\n",
        "    df_adult.loc[a , 'race'] = 0\n",
        "  elif df_adult.loc[a , 'race'] == 'Asian-Pac-Islander' :\n",
        "    df_adult.loc[a , 'race'] = 1\n",
        "  elif df_adult.loc[a , 'race'] == 'Black' :\n",
        "    df_adult.loc[a , 'race'] = 2\n",
        "  elif df_adult.loc[a , 'race'] == 'Other' :\n",
        "    df_adult.loc[a , 'race'] = 3\n",
        "  elif df_adult.loc[a , 'race'] == 'White' :\n",
        "    df_adult.loc[a , 'race'] = 4\n",
        "  elif df_adult.loc[a , 'race'] == '?' :\n",
        "    df_adult.loc[a , 'race'] = 5"
      ],
      "execution_count": 11,
      "outputs": []
    },
    {
      "cell_type": "code",
      "metadata": {
        "id": "G3vfparaondr"
      },
      "source": [
        "for a in df_adult.index:\n",
        "  if df_adult.loc[a , 'education'] == '10th' :\n",
        "     df_adult.loc[a , 'education'] = 0\n",
        "  elif df_adult.loc[a , 'education'] == '11th' :\n",
        "       df_adult.loc[a , 'education'] = 1\n",
        "  elif df_adult.loc[a , 'education'] == '12th' :\n",
        "       df_adult.loc[a , 'education'] = 2\n",
        "  elif df_adult.loc[a , 'education'] == '1st-4th' :\n",
        "       df_adult.loc[a , 'education'] = 3\n",
        "  elif df_adult.loc[a , 'education'] == '5th-6th' :\n",
        "       df_adult.loc[a , 'education'] = 4\n",
        "  elif df_adult.loc[a , 'education'] == '7th-8th' :\n",
        "       df_adult.loc[a , 'education'] = 5\n",
        "  elif df_adult.loc[a , 'education'] == '9th' :\n",
        "    df_adult.loc[a , 'education'] = 6\n",
        "  elif df_adult.loc[a , 'education'] == 'Assoc-acdm' :\n",
        "       df_adult.loc[a , 'education'] = 7\n",
        "  elif df_adult.loc[a , 'education'] == 'Assoc-voc' :\n",
        "       df_adult.loc[a , 'education'] = 8\n",
        "  elif df_adult.loc[a , 'education'] == 'Bachelors' :\n",
        "       df_adult.loc[a , 'education'] = 9\n",
        "  elif df_adult.loc[a , 'education'] == 'Doctorate' :\n",
        "       df_adult.loc[a , 'education'] = 10\n",
        "  elif df_adult.loc[a , 'education'] == 'HS-grad' :\n",
        "       df_adult.loc[a , 'education'] = 11\n",
        "  elif df_adult.loc[a , 'education'] == 'Masters' :\n",
        "       df_adult.loc[a , 'education'] = 12\n",
        "  elif df_adult.loc[a , 'education'] == 'Preschool' :\n",
        "       df_adult.loc[a , 'education'] = 13\n",
        "  elif df_adult.loc[a , 'education'] == 'Prof-school' :\n",
        "       df_adult.loc[a , 'education'] = 14\n",
        "  elif df_adult.loc[a , 'education'] == 'Some-college' :\n",
        "       df_adult.loc[a , 'education'] = 15\n",
        "  elif df_adult.loc[a , 'education'] == '?' :\n",
        "       df_adult.loc[a , 'education'] = 16"
      ],
      "execution_count": 39,
      "outputs": []
    },
    {
      "cell_type": "code",
      "metadata": {
        "id": "2yRtkXvhplpH"
      },
      "source": [
        "for a in df_adult.index:\n",
        "  if df_adult.loc[a , 'gender'] == 'Female' :\n",
        "     df_adult.loc[a , 'gender'] = 0\n",
        "  elif df_adult.loc[a , 'gender'] == 'Male' :\n",
        "       df_adult.loc[a , 'gender'] = 1\n",
        "  elif df_adult.loc[a , 'gender'] == '?' :\n",
        "       df_adult.loc[a , 'gender'] = 2"
      ],
      "execution_count": 16,
      "outputs": []
    },
    {
      "cell_type": "code",
      "metadata": {
        "id": "YzbAJRN9p34C"
      },
      "source": [
        "for a in df_adult.index:\n",
        "  if df_adult.loc[a , 'relationship'] == 'Husband' :\n",
        "     df_adult.loc[a , 'relationship'] = 0\n",
        "  elif df_adult.loc[a , 'relationship'] == 'Not-in-family' :\n",
        "       df_adult.loc[a , 'relationship'] = 1\n",
        "  elif df_adult.loc[a , 'relationship'] == 'Other-relative' :\n",
        "       df_adult.loc[a , 'relationship'] = 2\n",
        "  elif df_adult.loc[a , 'relationship'] == 'Own-child' :\n",
        "       df_adult.loc[a , 'relationship'] = 3\n",
        "  elif df_adult.loc[a , 'relationship'] == 'Unmarried' :\n",
        "       df_adult.loc[a , 'relationship'] = 4\n",
        "  elif df_adult.loc[a , 'relationship'] == 'Wife' :\n",
        "       df_adult.loc[a , 'relationship'] = 5\n",
        "  elif df_adult.loc[a , 'relationship'] == '?' :\n",
        "       df_adult.loc[a , 'relationship'] = 6\n"
      ],
      "execution_count": 17,
      "outputs": []
    },
    {
      "cell_type": "code",
      "metadata": {
        "id": "CR5ppUEdqK8m"
      },
      "source": [
        "for a in df_adult.index:\n",
        "  if df_adult.loc[a , 'occupation'] == 'Adm-clerical' :\n",
        "     df_adult.loc[a , 'occupation'] = 0\n",
        "  elif df_adult.loc[a , 'occupation'] == 'Armed-Forces' :\n",
        "       df_adult.loc[a , 'occupation'] = 1\n",
        "  elif df_adult.loc[a , 'occupation'] == 'Craft-repair' :\n",
        "       df_adult.loc[a , 'occupation'] = 2\n",
        "  elif df_adult.loc[a , 'occupation'] == 'Exec-managerial' :\n",
        "       df_adult.loc[a , 'occupation'] = 3\n",
        "  elif df_adult.loc[a , 'occupation'] == 'Farming-fishing' :\n",
        "       df_adult.loc[a , 'occupation'] = 4\n",
        "  elif df_adult.loc[a , 'occupation'] == 'Handlers-cleaners' :\n",
        "       df_adult.loc[a , 'occupation'] = 5\n",
        "  elif df_adult.loc[a , 'occupation'] == 'Machine-op-inspct' :\n",
        "       df_adult.loc[a , 'occupation'] = 6\n",
        "  elif df_adult.loc[a , 'occupation'] == 'Other-service' :\n",
        "       df_adult.loc[a , 'occupation'] = 7\n",
        "  elif df_adult.loc[a , 'occupation'] == 'Priv-house-serv' :\n",
        "       df_adult.loc[a , 'occupation'] = 8\n",
        "  elif df_adult.loc[a , 'occupation'] == 'Prof-specialty' :\n",
        "       df_adult.loc[a , 'occupation'] = 9\n",
        "  elif df_adult.loc[a , 'occupation'] == 'Protective-serv' :\n",
        "       df_adult.loc[a , 'occupation'] = 10\n",
        "  elif df_adult.loc[a , 'occupation'] == 'Sales' :\n",
        "       df_adult.loc[a , 'occupation'] = 11\n",
        "  elif df_adult.loc[a , 'occupation'] == 'Tech-support' :\n",
        "       df_adult.loc[a , 'occupation'] = 12\n",
        "  elif df_adult.loc[a , 'occupation'] == 'Transport-moving' :\n",
        "       df_adult.loc[a , 'occupation'] = 13\n",
        "  elif df_adult.loc[a , 'occupation'] == '?' :\n",
        "       df_adult.loc[a , 'occupation'] = 14"
      ],
      "execution_count": 18,
      "outputs": []
    },
    {
      "cell_type": "code",
      "metadata": {
        "id": "R1Fzsjd2qjEd"
      },
      "source": [
        "for a in df_adult.index:\n",
        "  if df_adult.loc[a , 'marital-status'] == 'Divorced' :\n",
        "     df_adult.loc[a , 'marital-status'] = 0\n",
        "  elif df_adult.loc[a , 'marital-status'] == 'Married-AF-spouse' :\n",
        "       df_adult.loc[a , 'marital-status'] = 1\n",
        "  elif df_adult.loc[a , 'marital-status'] == 'Married-civ-spouse' :\n",
        "       df_adult.loc[a , 'marital-status'] = 2\n",
        "  elif df_adult.loc[a , 'marital-status'] == 'Married-spouse-absent' :\n",
        "       df_adult.loc[a , 'marital-status'] = 3\n",
        "  elif df_adult.loc[a , 'marital-status'] == 'Never-married' :\n",
        "       df_adult.loc[a , 'marital-status'] = 4\n",
        "  elif df_adult.loc[a , 'marital-status'] == 'Separated' :\n",
        "       df_adult.loc[a , 'marital-status'] = 5\n",
        "  elif df_adult.loc[a , 'marital-status'] == 'Widowed' :\n",
        "       df_adult.loc[a , 'marital-status'] = 6\n",
        "  elif df_adult.loc[a , 'marital-status'] == '?' :\n",
        "       df_adult.loc[a , 'marital-status'] = 7"
      ],
      "execution_count": 19,
      "outputs": []
    },
    {
      "cell_type": "code",
      "metadata": {
        "id": "k7pZdzLDqwsp"
      },
      "source": [
        "for a in df_adult.index:\n",
        "  if df_adult.loc[a , 'workclass'] == 'Federal-gov' :\n",
        "     df_adult.loc[a , 'workclass'] = 0\n",
        "  elif df_adult.loc[a , 'workclass'] == 'Local-gov' :\n",
        "       df_adult.loc[a , 'workclass'] = 1\n",
        "  elif df_adult.loc[a , 'workclass'] == 'Never-worked' :\n",
        "       df_adult.loc[a , 'workclass'] = 2\n",
        "  elif df_adult.loc[a , 'workclass'] == 'Private' :\n",
        "       df_adult.loc[a , 'workclass'] = 3\n",
        "  elif df_adult.loc[a , 'workclass'] == 'Self-emp-inc' :\n",
        "       df_adult.loc[a , 'workclass'] = 4\n",
        "  elif df_adult.loc[a , 'workclass'] == 'Self-emp-not-inc' :\n",
        "       df_adult.loc[a , 'workclass'] = 5\n",
        "  elif df_adult.loc[a , 'workclass'] == 'State-gov' :\n",
        "       df_adult.loc[a , 'workclass'] = 6\n",
        "  elif df_adult.loc[a , 'workclass'] == 'Without-pay' :\n",
        "       df_adult.loc[a , 'workclass'] = 7\n",
        "  elif df_adult.loc[a , 'workclass'] == '?' :\n",
        "       df_adult.loc[a , 'workclass'] = 8"
      ],
      "execution_count": 20,
      "outputs": []
    },
    {
      "cell_type": "code",
      "metadata": {
        "colab": {
          "base_uri": "https://localhost:8080/",
          "height": 281
        },
        "id": "R_xpspO3q_UC",
        "outputId": "eb995729-f989-49e3-a976-ea3b146fa334"
      },
      "source": [
        "df_adult.head(3)"
      ],
      "execution_count": 40,
      "outputs": [
        {
          "output_type": "execute_result",
          "data": {
            "text/html": [
              "<div>\n",
              "<style scoped>\n",
              "    .dataframe tbody tr th:only-of-type {\n",
              "        vertical-align: middle;\n",
              "    }\n",
              "\n",
              "    .dataframe tbody tr th {\n",
              "        vertical-align: top;\n",
              "    }\n",
              "\n",
              "    .dataframe thead th {\n",
              "        text-align: right;\n",
              "    }\n",
              "</style>\n",
              "<table border=\"1\" class=\"dataframe\">\n",
              "  <thead>\n",
              "    <tr style=\"text-align: right;\">\n",
              "      <th></th>\n",
              "      <th>age</th>\n",
              "      <th>workclass</th>\n",
              "      <th>fnlwgt</th>\n",
              "      <th>education</th>\n",
              "      <th>educational-num</th>\n",
              "      <th>marital-status</th>\n",
              "      <th>occupation</th>\n",
              "      <th>relationship</th>\n",
              "      <th>race</th>\n",
              "      <th>gender</th>\n",
              "      <th>capital-gain</th>\n",
              "      <th>capital-loss</th>\n",
              "      <th>hours-per-week</th>\n",
              "      <th>native-country</th>\n",
              "      <th>income</th>\n",
              "    </tr>\n",
              "  </thead>\n",
              "  <tbody>\n",
              "    <tr>\n",
              "      <th>0</th>\n",
              "      <td>25</td>\n",
              "      <td>Private</td>\n",
              "      <td>226802</td>\n",
              "      <td>1</td>\n",
              "      <td>7</td>\n",
              "      <td>Never-married</td>\n",
              "      <td>Machine-op-inspct</td>\n",
              "      <td>Own-child</td>\n",
              "      <td>Black</td>\n",
              "      <td>Male</td>\n",
              "      <td>0</td>\n",
              "      <td>0</td>\n",
              "      <td>40</td>\n",
              "      <td>39</td>\n",
              "      <td>&lt;=50K</td>\n",
              "    </tr>\n",
              "    <tr>\n",
              "      <th>1</th>\n",
              "      <td>38</td>\n",
              "      <td>Private</td>\n",
              "      <td>89814</td>\n",
              "      <td>11</td>\n",
              "      <td>9</td>\n",
              "      <td>Married-civ-spouse</td>\n",
              "      <td>Farming-fishing</td>\n",
              "      <td>Husband</td>\n",
              "      <td>White</td>\n",
              "      <td>Male</td>\n",
              "      <td>0</td>\n",
              "      <td>0</td>\n",
              "      <td>50</td>\n",
              "      <td>39</td>\n",
              "      <td>&lt;=50K</td>\n",
              "    </tr>\n",
              "    <tr>\n",
              "      <th>2</th>\n",
              "      <td>28</td>\n",
              "      <td>Local-gov</td>\n",
              "      <td>336951</td>\n",
              "      <td>7</td>\n",
              "      <td>12</td>\n",
              "      <td>Married-civ-spouse</td>\n",
              "      <td>Protective-serv</td>\n",
              "      <td>Husband</td>\n",
              "      <td>White</td>\n",
              "      <td>Male</td>\n",
              "      <td>0</td>\n",
              "      <td>0</td>\n",
              "      <td>40</td>\n",
              "      <td>39</td>\n",
              "      <td>&gt;50K</td>\n",
              "    </tr>\n",
              "  </tbody>\n",
              "</table>\n",
              "</div>"
            ],
            "text/plain": [
              "   age  workclass  fnlwgt  ... hours-per-week  native-country income\n",
              "0   25    Private  226802  ...             40              39  <=50K\n",
              "1   38    Private   89814  ...             50              39  <=50K\n",
              "2   28  Local-gov  336951  ...             40              39   >50K\n",
              "\n",
              "[3 rows x 15 columns]"
            ]
          },
          "metadata": {
            "tags": []
          },
          "execution_count": 40
        }
      ]
    },
    {
      "cell_type": "code",
      "metadata": {
        "colab": {
          "base_uri": "https://localhost:8080/",
          "height": 142
        },
        "id": "yf-p0smrrYz0",
        "outputId": "046112ff-366f-4294-b975-94b329b57fb6"
      },
      "source": [
        "inputs = df_adult.drop(['income','race','gender','relationship','marital-status','education','fnlwgt',\n",
        "                        'native-country'],axis='columns')\n",
        "target = df_adult.income\n",
        "inputs.head(3)"
      ],
      "execution_count": 22,
      "outputs": [
        {
          "output_type": "execute_result",
          "data": {
            "text/html": [
              "<div>\n",
              "<style scoped>\n",
              "    .dataframe tbody tr th:only-of-type {\n",
              "        vertical-align: middle;\n",
              "    }\n",
              "\n",
              "    .dataframe tbody tr th {\n",
              "        vertical-align: top;\n",
              "    }\n",
              "\n",
              "    .dataframe thead th {\n",
              "        text-align: right;\n",
              "    }\n",
              "</style>\n",
              "<table border=\"1\" class=\"dataframe\">\n",
              "  <thead>\n",
              "    <tr style=\"text-align: right;\">\n",
              "      <th></th>\n",
              "      <th>age</th>\n",
              "      <th>workclass</th>\n",
              "      <th>educational-num</th>\n",
              "      <th>occupation</th>\n",
              "      <th>capital-gain</th>\n",
              "      <th>capital-loss</th>\n",
              "      <th>hours-per-week</th>\n",
              "    </tr>\n",
              "  </thead>\n",
              "  <tbody>\n",
              "    <tr>\n",
              "      <th>0</th>\n",
              "      <td>25</td>\n",
              "      <td>3</td>\n",
              "      <td>7</td>\n",
              "      <td>6</td>\n",
              "      <td>0</td>\n",
              "      <td>0</td>\n",
              "      <td>40</td>\n",
              "    </tr>\n",
              "    <tr>\n",
              "      <th>1</th>\n",
              "      <td>38</td>\n",
              "      <td>3</td>\n",
              "      <td>9</td>\n",
              "      <td>4</td>\n",
              "      <td>0</td>\n",
              "      <td>0</td>\n",
              "      <td>50</td>\n",
              "    </tr>\n",
              "    <tr>\n",
              "      <th>2</th>\n",
              "      <td>28</td>\n",
              "      <td>1</td>\n",
              "      <td>12</td>\n",
              "      <td>10</td>\n",
              "      <td>0</td>\n",
              "      <td>0</td>\n",
              "      <td>40</td>\n",
              "    </tr>\n",
              "  </tbody>\n",
              "</table>\n",
              "</div>"
            ],
            "text/plain": [
              "   age workclass  educational-num  ... capital-gain  capital-loss  hours-per-week\n",
              "0   25         3                7  ...            0             0              40\n",
              "1   38         3                9  ...            0             0              50\n",
              "2   28         1               12  ...            0             0              40\n",
              "\n",
              "[3 rows x 7 columns]"
            ]
          },
          "metadata": {
            "tags": []
          },
          "execution_count": 22
        }
      ]
    },
    {
      "cell_type": "code",
      "metadata": {
        "id": "HIpOHWNLrqA3"
      },
      "source": [
        "from sklearn.model_selection import train_test_split\n",
        "X_train, X_test, y_train, y_test = train_test_split(data,target,test_size=0.3,random_state=100)"
      ],
      "execution_count": 43,
      "outputs": []
    },
    {
      "cell_type": "code",
      "metadata": {
        "colab": {
          "base_uri": "https://localhost:8080/"
        },
        "id": "2xA2XWZlrsYy",
        "outputId": "d8c513d6-6ec3-42dc-ade8-fa4fec96e53e"
      },
      "source": [
        "from sklearn.naive_bayes import GaussianNB\n",
        "model = GaussianNB()\n",
        "model.fit(X_train,y_train)\n",
        "model.score(X_test,y_test)"
      ],
      "execution_count": 44,
      "outputs": [
        {
          "output_type": "execute_result",
          "data": {
            "text/plain": [
              "0.28103460042312156"
            ]
          },
          "metadata": {
            "tags": []
          },
          "execution_count": 44
        }
      ]
    },
    {
      "cell_type": "code",
      "metadata": {
        "id": "jGiYxJr5sOE9"
      },
      "source": [
        "X_test[0:10]"
      ],
      "execution_count": null,
      "outputs": []
    },
    {
      "cell_type": "code",
      "metadata": {
        "colab": {
          "base_uri": "https://localhost:8080/"
        },
        "id": "Ytdd_BmIsT3Y",
        "outputId": "e54a09d0-ef85-4bc8-f182-539ec45d9d7a"
      },
      "source": [
        "y_test[0:10]"
      ],
      "execution_count": 46,
      "outputs": [
        {
          "output_type": "execute_result",
          "data": {
            "text/plain": [
              "12393     >50K\n",
              "48701    <=50K\n",
              "17918    <=50K\n",
              "11352    <=50K\n",
              "36198    <=50K\n",
              "14102    <=50K\n",
              "41731    <=50K\n",
              "23995     >50K\n",
              "36248    <=50K\n",
              "12244    <=50K\n",
              "Name: income, dtype: object"
            ]
          },
          "metadata": {
            "tags": []
          },
          "execution_count": 46
        }
      ]
    },
    {
      "cell_type": "code",
      "metadata": {
        "colab": {
          "base_uri": "https://localhost:8080/"
        },
        "id": "BdjWd9WIsVU3",
        "outputId": "712e4668-8336-49d5-c023-eda65f519d39"
      },
      "source": [
        "model.predict(X_test[0:10])"
      ],
      "execution_count": 47,
      "outputs": [
        {
          "output_type": "execute_result",
          "data": {
            "text/plain": [
              "array(['>50K', '>50K', '>50K', '>50K', '>50K', '>50K', '>50K', '>50K',\n",
              "       '>50K', '>50K'], dtype='<U5')"
            ]
          },
          "metadata": {
            "tags": []
          },
          "execution_count": 47
        }
      ]
    },
    {
      "cell_type": "code",
      "metadata": {
        "colab": {
          "base_uri": "https://localhost:8080/"
        },
        "id": "zGF2pi07sYP6",
        "outputId": "c912bb3f-b3df-4cd1-c995-a6c9bc91fee9"
      },
      "source": [
        "model.predict_proba(X_test[:10])"
      ],
      "execution_count": 48,
      "outputs": [
        {
          "output_type": "execute_result",
          "data": {
            "text/plain": [
              "array([[4.67336057e-06, 9.99995327e-01],\n",
              "       [4.67336057e-06, 9.99995327e-01],\n",
              "       [4.67336057e-06, 9.99995327e-01],\n",
              "       [4.67336057e-06, 9.99995327e-01],\n",
              "       [4.67336057e-06, 9.99995327e-01],\n",
              "       [4.67336057e-06, 9.99995327e-01],\n",
              "       [4.67336057e-06, 9.99995327e-01],\n",
              "       [4.67336057e-06, 9.99995327e-01],\n",
              "       [4.67336057e-06, 9.99995327e-01],\n",
              "       [4.67336057e-06, 9.99995327e-01]])"
            ]
          },
          "metadata": {
            "tags": []
          },
          "execution_count": 48
        }
      ]
    }
  ]
}